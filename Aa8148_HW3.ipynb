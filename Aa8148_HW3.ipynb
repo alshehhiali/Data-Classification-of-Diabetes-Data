{
 "cells": [
  {
   "cell_type": "code",
   "execution_count": 52,
   "metadata": {},
   "outputs": [],
   "source": [
    "# Importing Modules\n",
    "import pandas as pd\n",
    "import numpy as np\n",
    "from scipy import stats\n",
    "from sklearn.preprocessing import StandardScaler\n",
    "from sklearn.model_selection import train_test_split\n",
    "from collections import Counter\n",
    "from sklearn.metrics import confusion_matrix, classification_report"
   ]
  },
  {
   "cell_type": "markdown",
   "metadata": {},
   "source": [
    "## Data Collection"
   ]
  },
  {
   "cell_type": "markdown",
   "metadata": {},
   "source": [
    "The following dataset was downloaded from Kaggle, where it was originally from the National Institute of Diabetes and Digestive and Kidney Diseases: https://www.kaggle.com/datasets/mathchi/diabetes-data-set"
   ]
  },
  {
   "cell_type": "code",
   "execution_count": 30,
   "metadata": {},
   "outputs": [
    {
     "data": {
      "text/html": [
       "<div>\n",
       "<style scoped>\n",
       "    .dataframe tbody tr th:only-of-type {\n",
       "        vertical-align: middle;\n",
       "    }\n",
       "\n",
       "    .dataframe tbody tr th {\n",
       "        vertical-align: top;\n",
       "    }\n",
       "\n",
       "    .dataframe thead th {\n",
       "        text-align: right;\n",
       "    }\n",
       "</style>\n",
       "<table border=\"1\" class=\"dataframe\">\n",
       "  <thead>\n",
       "    <tr style=\"text-align: right;\">\n",
       "      <th></th>\n",
       "      <th>Pregnancies</th>\n",
       "      <th>Glucose</th>\n",
       "      <th>BloodPressure</th>\n",
       "      <th>SkinThickness</th>\n",
       "      <th>Insulin</th>\n",
       "      <th>BMI</th>\n",
       "      <th>DiabetesPedigreeFunction</th>\n",
       "      <th>Age</th>\n",
       "      <th>Outcome</th>\n",
       "    </tr>\n",
       "  </thead>\n",
       "  <tbody>\n",
       "    <tr>\n",
       "      <th>0</th>\n",
       "      <td>6</td>\n",
       "      <td>148</td>\n",
       "      <td>72</td>\n",
       "      <td>35</td>\n",
       "      <td>0</td>\n",
       "      <td>33.6</td>\n",
       "      <td>0.627</td>\n",
       "      <td>50</td>\n",
       "      <td>1</td>\n",
       "    </tr>\n",
       "    <tr>\n",
       "      <th>1</th>\n",
       "      <td>1</td>\n",
       "      <td>85</td>\n",
       "      <td>66</td>\n",
       "      <td>29</td>\n",
       "      <td>0</td>\n",
       "      <td>26.6</td>\n",
       "      <td>0.351</td>\n",
       "      <td>31</td>\n",
       "      <td>0</td>\n",
       "    </tr>\n",
       "    <tr>\n",
       "      <th>2</th>\n",
       "      <td>8</td>\n",
       "      <td>183</td>\n",
       "      <td>64</td>\n",
       "      <td>0</td>\n",
       "      <td>0</td>\n",
       "      <td>23.3</td>\n",
       "      <td>0.672</td>\n",
       "      <td>32</td>\n",
       "      <td>1</td>\n",
       "    </tr>\n",
       "    <tr>\n",
       "      <th>3</th>\n",
       "      <td>1</td>\n",
       "      <td>89</td>\n",
       "      <td>66</td>\n",
       "      <td>23</td>\n",
       "      <td>94</td>\n",
       "      <td>28.1</td>\n",
       "      <td>0.167</td>\n",
       "      <td>21</td>\n",
       "      <td>0</td>\n",
       "    </tr>\n",
       "    <tr>\n",
       "      <th>4</th>\n",
       "      <td>0</td>\n",
       "      <td>137</td>\n",
       "      <td>40</td>\n",
       "      <td>35</td>\n",
       "      <td>168</td>\n",
       "      <td>43.1</td>\n",
       "      <td>2.288</td>\n",
       "      <td>33</td>\n",
       "      <td>1</td>\n",
       "    </tr>\n",
       "  </tbody>\n",
       "</table>\n",
       "</div>"
      ],
      "text/plain": [
       "   Pregnancies  Glucose  BloodPressure  SkinThickness  Insulin   BMI  \\\n",
       "0            6      148             72             35        0  33.6   \n",
       "1            1       85             66             29        0  26.6   \n",
       "2            8      183             64              0        0  23.3   \n",
       "3            1       89             66             23       94  28.1   \n",
       "4            0      137             40             35      168  43.1   \n",
       "\n",
       "   DiabetesPedigreeFunction  Age  Outcome  \n",
       "0                     0.627   50        1  \n",
       "1                     0.351   31        0  \n",
       "2                     0.672   32        1  \n",
       "3                     0.167   21        0  \n",
       "4                     2.288   33        1  "
      ]
     },
     "execution_count": 30,
     "metadata": {},
     "output_type": "execute_result"
    }
   ],
   "source": [
    "# Reading Dataset\n",
    "\n",
    "df = pd.read_csv(\"diabetes.csv\")\n",
    "\n",
    "df.head()"
   ]
  },
  {
   "cell_type": "markdown",
   "metadata": {},
   "source": [
    "## Preprocessing"
   ]
  },
  {
   "cell_type": "code",
   "execution_count": 31,
   "metadata": {},
   "outputs": [
    {
     "name": "stdout",
     "output_type": "stream",
     "text": [
      "Number of Observations before dropping missing values:  768\n",
      "Number of Observations after dropping missing values:  768\n"
     ]
    }
   ],
   "source": [
    "# Attempting to drop rows with NaN columns\n",
    "print(\"Number of Observations before dropping missing values: \", df.shape[0])\n",
    "df = df.dropna()\n",
    "print(\"Number of Observations after dropping missing values: \", df.shape[0])"
   ]
  },
  {
   "cell_type": "markdown",
   "metadata": {},
   "source": [
    "This shows us that the input data for every feature for every observation is already filled in. Let us find outliers using another method. We can use z-scores to find and eliminate observations with a z-score between -3 and 3."
   ]
  },
  {
   "cell_type": "code",
   "execution_count": 32,
   "metadata": {},
   "outputs": [
    {
     "name": "stdout",
     "output_type": "stream",
     "text": [
      "Number of Outliers: 80\n"
     ]
    }
   ],
   "source": [
    "# Calculating Z-score related to the columns\n",
    "zScores = np.abs(stats.zscore(df.select_dtypes(include=[np.number])))\n",
    "threshold = 3\n",
    "\n",
    "# Finding rows where column exceeds threshold\n",
    "outliers = (zScores > threshold).any(axis=1)\n",
    "\n",
    "\n",
    "outliersDf = df[outliers]\n",
    "\n",
    "print(\"Number of Outliers:\", outliersDf.shape[0])"
   ]
  },
  {
   "cell_type": "markdown",
   "metadata": {},
   "source": [
    "By using z-score with a threshold of 3, we have identified around 80 outliers for our data. Now let us remove these outliers from our dataframe and standardize the data."
   ]
  },
  {
   "cell_type": "code",
   "execution_count": 47,
   "metadata": {},
   "outputs": [
    {
     "data": {
      "text/html": [
       "<div>\n",
       "<style scoped>\n",
       "    .dataframe tbody tr th:only-of-type {\n",
       "        vertical-align: middle;\n",
       "    }\n",
       "\n",
       "    .dataframe tbody tr th {\n",
       "        vertical-align: top;\n",
       "    }\n",
       "\n",
       "    .dataframe thead th {\n",
       "        text-align: right;\n",
       "    }\n",
       "</style>\n",
       "<table border=\"1\" class=\"dataframe\">\n",
       "  <thead>\n",
       "    <tr style=\"text-align: right;\">\n",
       "      <th></th>\n",
       "      <th>Pregnancies</th>\n",
       "      <th>Glucose</th>\n",
       "      <th>BloodPressure</th>\n",
       "      <th>SkinThickness</th>\n",
       "      <th>Insulin</th>\n",
       "      <th>BMI</th>\n",
       "      <th>DiabetesPedigreeFunction</th>\n",
       "      <th>Age</th>\n",
       "    </tr>\n",
       "  </thead>\n",
       "  <tbody>\n",
       "    <tr>\n",
       "      <th>0</th>\n",
       "      <td>0.657355</td>\n",
       "      <td>0.924040</td>\n",
       "      <td>-0.028115</td>\n",
       "      <td>0.923219</td>\n",
       "      <td>-0.805266</td>\n",
       "      <td>0.210285</td>\n",
       "      <td>0.606516</td>\n",
       "      <td>1.479220</td>\n",
       "    </tr>\n",
       "    <tr>\n",
       "      <th>1</th>\n",
       "      <td>-0.868490</td>\n",
       "      <td>-1.177082</td>\n",
       "      <td>-0.515765</td>\n",
       "      <td>0.533462</td>\n",
       "      <td>-0.805266</td>\n",
       "      <td>-0.848063</td>\n",
       "      <td>-0.364220</td>\n",
       "      <td>-0.183265</td>\n",
       "    </tr>\n",
       "    <tr>\n",
       "      <th>2</th>\n",
       "      <td>1.267694</td>\n",
       "      <td>2.091330</td>\n",
       "      <td>-0.678315</td>\n",
       "      <td>-1.350366</td>\n",
       "      <td>-0.805266</td>\n",
       "      <td>-1.346999</td>\n",
       "      <td>0.764788</td>\n",
       "      <td>-0.095766</td>\n",
       "    </tr>\n",
       "    <tr>\n",
       "      <th>3</th>\n",
       "      <td>-0.868490</td>\n",
       "      <td>-1.043678</td>\n",
       "      <td>-0.515765</td>\n",
       "      <td>0.143704</td>\n",
       "      <td>0.238698</td>\n",
       "      <td>-0.621274</td>\n",
       "      <td>-1.011378</td>\n",
       "      <td>-1.058257</td>\n",
       "    </tr>\n",
       "    <tr>\n",
       "      <th>5</th>\n",
       "      <td>0.352186</td>\n",
       "      <td>-0.143197</td>\n",
       "      <td>0.134435</td>\n",
       "      <td>-1.350366</td>\n",
       "      <td>-0.805266</td>\n",
       "      <td>-0.999256</td>\n",
       "      <td>-0.891795</td>\n",
       "      <td>-0.270764</td>\n",
       "    </tr>\n",
       "  </tbody>\n",
       "</table>\n",
       "</div>"
      ],
      "text/plain": [
       "   Pregnancies   Glucose  BloodPressure  SkinThickness   Insulin       BMI  \\\n",
       "0     0.657355  0.924040      -0.028115       0.923219 -0.805266  0.210285   \n",
       "1    -0.868490 -1.177082      -0.515765       0.533462 -0.805266 -0.848063   \n",
       "2     1.267694  2.091330      -0.678315      -1.350366 -0.805266 -1.346999   \n",
       "3    -0.868490 -1.043678      -0.515765       0.143704  0.238698 -0.621274   \n",
       "5     0.352186 -0.143197       0.134435      -1.350366 -0.805266 -0.999256   \n",
       "\n",
       "   DiabetesPedigreeFunction       Age  \n",
       "0                  0.606516  1.479220  \n",
       "1                 -0.364220 -0.183265  \n",
       "2                  0.764788 -0.095766  \n",
       "3                 -1.011378 -1.058257  \n",
       "5                 -0.891795 -0.270764  "
      ]
     },
     "execution_count": 47,
     "metadata": {},
     "output_type": "execute_result"
    }
   ],
   "source": [
    "noOutliersDf = df[~outliers]\n",
    "\n",
    "updatedDf = noOutliersDf.drop([\"Outcome\"], axis=1)  # Removing outcome column because we do not want it to be part of standarization.\n",
    "\n",
    "# Creating a scaler to standardize numeric data in columns\n",
    "scaler = StandardScaler()\n",
    "\n",
    "colsNumeric = updatedDf.select_dtypes(include=[np.number]).columns\n",
    "updatedDf[colsNumeric] = scaler.fit_transform(updatedDf[colsNumeric])\n",
    "\n",
    "updatedDf.head()"
   ]
  },
  {
   "cell_type": "markdown",
   "metadata": {},
   "source": [
    "## Modeling"
   ]
  },
  {
   "cell_type": "markdown",
   "metadata": {},
   "source": [
    "Here, we will implement a KNN algorithm for our diabetes dataset. The other algorithms will be done on RapidMiner"
   ]
  },
  {
   "cell_type": "code",
   "execution_count": 50,
   "metadata": {},
   "outputs": [
    {
     "data": {
      "text/plain": [
       "0    0\n",
       "1    0\n",
       "2    0\n",
       "3    1\n",
       "4    1\n",
       "dtype: int64"
      ]
     },
     "execution_count": 50,
     "metadata": {},
     "output_type": "execute_result"
    }
   ],
   "source": [
    "# Re-importing the original dataset to get the 'Outcome' column\n",
    "\n",
    "# Extracting the 'Outcome' column\n",
    "outcomeCol = df['Outcome']\n",
    "noOutliersDf = outcomeCol[~outliers]\n",
    "\n",
    "# updatedDf['Outcome'] = noOutliersDf  # Adding outcome column back to updated Dataframe\n",
    "\n",
    "\n",
    "# Defining features and class variables\n",
    "X = updatedDf\n",
    "y = noOutliersDf.reset_index(drop=True)\n",
    "\n",
    "# Now we have our feature set X and target y ready for the kNN implementation\n",
    "X.shape, y.shape\n",
    "\n",
    "# Creating test/train split\n",
    "\n",
    "X_train, X_test, y_train, y_test = train_test_split(X, y, test_size=0.2, random_state=42)\n",
    "\n",
    "# Had issue with \"IndexError: single positional indexer is out-of-bounds\", so resetting indexes to resolve\n",
    "X_train.reset_index(drop=True, inplace=True)\n",
    "X_test.reset_index(drop=True, inplace=True)\n",
    "y_train.reset_index(drop=True, inplace=True)\n",
    "y_test.reset_index(drop=True, inplace=True)\n",
    "\n",
    "# Euclidean Distance for KNN\n",
    "def euclidDist(r1, r2):\n",
    "    return np.sqrt(np.sum((r1 - r2) ** 2))\n",
    "\n",
    "# Finding KNN\n",
    "def findNeighbors(X_train, test_row, k):\n",
    "    dists = []\n",
    "    for idx, train_row in X_train.iterrows():\n",
    "        dist = euclidDist(test_row, train_row)\n",
    "        dists.append((idx, dist))\n",
    "    dists.sort(key=lambda x: x[1])\n",
    "    neighbors = dists[:k]\n",
    "    return [X_train.iloc[idx] for idx, _ in neighbors]\n",
    "\n",
    "\n",
    "# predicting class based on NN\n",
    "def classificationPred(X_train, y_train, test_row, k):\n",
    "    neighbors = findNeighbors(X_train, test_row, k)\n",
    "    labelsNeighbor = [y_train.iloc[idx] for idx in [neighbor.name for neighbor in neighbors]]\n",
    "    prediction = Counter(labelsNeighbor).most_common(1)[0][0]\n",
    "    return prediction\n",
    "\n",
    "k = 3  # k = 3 as test case\n",
    "y_pred = X_test.apply(lambda x: classificationPred(X_train, y_train, x, k), axis=1)\n",
    "\n",
    "y_pred.head()"
   ]
  },
  {
   "cell_type": "code",
   "execution_count": 60,
   "metadata": {},
   "outputs": [
    {
     "name": "stdout",
     "output_type": "stream",
     "text": [
      "KNN Algorithm Performance Results\n",
      "Confusion Matrix:\n",
      " [[71 14]\n",
      " [25 28]]\n",
      "\n",
      "True Positives: 28\n",
      "False Positives: 14\n",
      "False Negatives: 25\n",
      "True Negatives: 71 \n",
      "\n",
      "\n",
      "Accuracy for KNN Model: 0.717\n",
      "Precision for KNN Model: 0.712\n",
      "Recall for KNN Model: 0.717\n",
      "F1 Score for KNN Model: 0.710\n"
     ]
    }
   ],
   "source": [
    "\n",
    "confMat = confusion_matrix(y_test, y_pred)\n",
    "\n",
    "# Extracting TP, FP, FN, and TN\n",
    "TP, FP, FN, TN = confMat[1, 1], confMat[0, 1], confMat[1, 0], confMat[0, 0]\n",
    "\n",
    "report = classification_report(y_test, y_pred, output_dict=True)\n",
    "\n",
    "acc = report['accuracy']\n",
    "prec = report['weighted avg']['precision']\n",
    "recall = report['weighted avg']['recall']\n",
    "f1 = report['weighted avg']['f1-score']\n",
    "\n",
    "print(\"KNN Algorithm Performance Results\")\n",
    "print(\"Confusion Matrix:\\n\", confMat)\n",
    "print(\"\\nTrue Positives:\", TP)\n",
    "print(\"False Positives:\", FP)\n",
    "print(\"False Negatives:\", FN)\n",
    "print(\"True Negatives:\", TN, \"\\n\\n\")\n",
    "print(\"Accuracy for KNN Model:\", f\"{acc:.3f}\")\n",
    "print(\"Precision for KNN Model:\", f\"{prec:.3f}\")\n",
    "print(\"Recall for KNN Model:\", f\"{recall:.3f}\")\n",
    "print(\"F1 Score for KNN Model:\", f\"{f1:.3f}\")"
   ]
  },
  {
   "cell_type": "markdown",
   "metadata": {},
   "source": [
    "Outputting dataframe as csv file for other algorithm methods (SVM, Decision Tree, Random Forest, & Gradient Boosting) that will be implemented on RapidMiner"
   ]
  },
  {
   "cell_type": "code",
   "execution_count": 51,
   "metadata": {},
   "outputs": [],
   "source": [
    "updatedDf['Outcome'] = noOutliersDf\n",
    "\n",
    "updatedDf.to_csv(\"PreprocessedDiabetes.csv\", index=False)"
   ]
  }
 ],
 "metadata": {
  "kernelspec": {
   "display_name": "Python 3",
   "language": "python",
   "name": "python3"
  },
  "language_info": {
   "codemirror_mode": {
    "name": "ipython",
    "version": 3
   },
   "file_extension": ".py",
   "mimetype": "text/x-python",
   "name": "python",
   "nbconvert_exporter": "python",
   "pygments_lexer": "ipython3",
   "version": "3.11.2"
  }
 },
 "nbformat": 4,
 "nbformat_minor": 2
}
